{
 "cells": [
  {
   "cell_type": "code",
   "execution_count": 1,
   "id": "d663b9a1",
   "metadata": {},
   "outputs": [
    {
     "data": {
      "application/vnd.jupyter.widget-view+json": {
       "model_id": "b818d6ccb5b44f5db412291d9a9095d1",
       "version_major": 2,
       "version_minor": 0
      },
      "text/plain": [
       "interactive(children=(IntSlider(value=-105, continuous_update=False, description='Phi angle:', max=180, min=-1…"
      ]
     },
     "metadata": {},
     "output_type": "display_data"
    },
    {
     "data": {
      "text/plain": [
       "<function __main__.update_plot(phi, alf, th)>"
      ]
     },
     "execution_count": 1,
     "metadata": {},
     "output_type": "execute_result"
    }
   ],
   "source": [
    "import numpy as np\n",
    "import matplotlib.pyplot as plt\n",
    "from loadibex import load_ibexfile_std as loadi\n",
    "import map_rotated\n",
    "\n",
    "import ipywidgets as widgets\n",
    "\n",
    "from IPython.display import display\n",
    "\n",
    "def update_plot(phi, alf, th):\n",
    "    '''with this line the map center will lie on the zero meridian:\n",
    "        \"delta_th = atan( tan(delphi) * cos(alf) )\" '''\n",
    "    # th = 180-th + np.degrees(np.arctan( np.tan(np.radians(phi)) *np.cos(np.radians(alf)) ))\n",
    "    \n",
    "    map_rotated.plot_rotated_map(lons, lats, data, alf=alf, phi=phi, th=th\n",
    "                                ,grid_color='w'\n",
    "                                #,title='Hello Plot'\n",
    "                                )\n",
    "    plt.plot(-np.radians(th),0,'ok')\n",
    "    plt.text(.02 -np.radians(th),.03,'('+str(phi)+', '+str(alf)+')', fontsize=20)\n",
    "    # plt.grid(linestyle='--',color='k')\n",
    "    \n",
    "lons, lats, data = loadi()\n",
    "data[ np.where(data<=0) ] =np.nan\n",
    "\n",
    "phi_slider = widgets.IntSlider(\n",
    "    value=-105,\n",
    "    min=-180,\n",
    "    max=180,\n",
    "    step=0.1,\n",
    "    description='Phi angle:',\n",
    "    continuous_update=False\n",
    ")\n",
    "alf_slider = widgets.IntSlider(\n",
    "    value=5,\n",
    "    min=-90,\n",
    "    max=90,\n",
    "    step=0.1,\n",
    "    description='Alpha angle:',\n",
    "    continuous_update=False\n",
    ")\n",
    "th_slider = widgets.IntSlider(\n",
    "    value=0,\n",
    "    min=-180,\n",
    "    max=180,\n",
    "    step=0.1,\n",
    "    \n",
    "    description='Theta angle:',\n",
    "    continuous_update=False\n",
    ")\n",
    "\n",
    "widgets.interact(update_plot, phi=phi_slider, alf=alf_slider, th=th_slider)\n",
    "\n"
   ]
  },
  {
   "cell_type": "code",
   "execution_count": null,
   "id": "5f22951e-5aab-4db2-977c-1567f36e3d22",
   "metadata": {},
   "outputs": [],
   "source": []
  },
  {
   "cell_type": "code",
   "execution_count": null,
   "id": "31f86e05-722a-41ba-af1c-fce54a67708a",
   "metadata": {},
   "outputs": [],
   "source": []
  }
 ],
 "metadata": {
  "kernelspec": {
   "display_name": "Python 3 (ipykernel)",
   "language": "python",
   "name": "python3"
  },
  "language_info": {
   "codemirror_mode": {
    "name": "ipython",
    "version": 3
   },
   "file_extension": ".py",
   "mimetype": "text/x-python",
   "name": "python",
   "nbconvert_exporter": "python",
   "pygments_lexer": "ipython3",
   "version": "3.11.5"
  }
 },
 "nbformat": 4,
 "nbformat_minor": 5
}
